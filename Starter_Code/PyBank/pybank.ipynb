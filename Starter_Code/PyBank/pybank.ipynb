{
 "cells": [
  {
   "cell_type": "code",
   "execution_count": 1,
   "metadata": {},
   "outputs": [],
   "source": [
    "import pandas as pd\n",
    "\n",
    "file = \"Resources/budget_data.csv\"\n",
    "\n",
    "df = pd.read_csv(file)"
   ]
  },
  {
   "cell_type": "code",
   "execution_count": 12,
   "metadata": {},
   "outputs": [],
   "source": [
    "df_header = df.head()"
   ]
  },
  {
   "cell_type": "code",
   "execution_count": 4,
   "metadata": {},
   "outputs": [],
   "source": [
    "# Grab length of df for total months\n",
    "total_months = len(df)"
   ]
  },
  {
   "cell_type": "code",
   "execution_count": 5,
   "metadata": {},
   "outputs": [],
   "source": [
    "# Get the sum of profit/losses\n",
    "net_total = df['Profit/Losses'].sum()"
   ]
  },
  {
   "cell_type": "code",
   "execution_count": 6,
   "metadata": {},
   "outputs": [],
   "source": [
    "# Get difference of each row and find the average difference, round to 2 decimals.\n",
    "changes = round(df['Profit/Losses'].diff().mean(),2)"
   ]
  },
  {
   "cell_type": "code",
   "execution_count": 7,
   "metadata": {},
   "outputs": [],
   "source": [
    "# Find the biggest increase\n",
    "biggest_increase = round(df['Profit/Losses'].diff().max())\n",
    "\n",
    "# Get the month of this increase\n",
    "date_increase = df['Date'].iloc[df['Profit/Losses'].diff().argmax()]"
   ]
  },
  {
   "cell_type": "code",
   "execution_count": 8,
   "metadata": {},
   "outputs": [],
   "source": [
    "# Find the biggest decrease\n",
    "biggest_decrease = round(df['Profit/Losses'].diff().min())\n",
    "\n",
    "# Get the month of this decrease\n",
    "date_decrease = df['Date'].iloc[df['Profit/Losses'].diff().argmin()]"
   ]
  },
  {
   "cell_type": "code",
   "execution_count": 9,
   "metadata": {},
   "outputs": [
    {
     "name": "stdout",
     "output_type": "stream",
     "text": [
      "Financial Analysis\n",
      "\n",
      "---------------------\n",
      "Total Months: 86\n",
      "\n",
      "Total: 22564198\n",
      "\n",
      "Average Change: -8311.11\n",
      "\n",
      "Greatest Increase in Profits: Aug-16 ($1862002)\n",
      "\n",
      "Greatest Decrease in Profits: Feb-14 ($-1825558)\n"
     ]
    }
   ],
   "source": [
    "# Print the results\n",
    "print(\"Financial Analysis\\n\")\n",
    "print(\"---------------------\")\n",
    "print(f\"Total Months: {total_months}\\n\")\n",
    "print(f\"Total: {net_total}\\n\")\n",
    "print(f\"Average Change: {changes}\\n\")\n",
    "print(f\"Greatest Increase in Profits: {date_increase} (${biggest_increase})\\n\")\n",
    "print(f\"Greatest Decrease in Profits: {date_decrease} (${biggest_decrease})\")"
   ]
  },
  {
   "cell_type": "code",
   "execution_count": 11,
   "metadata": {},
   "outputs": [],
   "source": [
    "# Create a txt file with the results\n",
    "with open('Analysis/financialanalysis.txt', mode = 'w') as f:\n",
    "    f.write(\"Financial Analysis\\n\")\n",
    "    f.write(\"---------------------\\n\")\n",
    "    f.write(f\"Total Months: {total_months}\\n\")\n",
    "    f.write(f\"Total: {net_total}\\n\")\n",
    "    f.write(f\"Average Change: {round(changes,2)}\\n\")\n",
    "    f.write(f\"Greatest Increase in Profits: {date_increase} (${biggest_increase})\\n\")\n",
    "    f.write(f\"Greatest Decrease in Profits: {date_decrease} (${biggest_decrease})\")"
   ]
  },
  {
   "cell_type": "code",
   "execution_count": null,
   "metadata": {},
   "outputs": [],
   "source": []
  },
  {
   "cell_type": "code",
   "execution_count": null,
   "metadata": {},
   "outputs": [],
   "source": []
  }
 ],
 "metadata": {
  "kernelspec": {
   "display_name": "Python 3",
   "language": "python",
   "name": "python3"
  },
  "language_info": {
   "codemirror_mode": {
    "name": "ipython",
    "version": 3
   },
   "file_extension": ".py",
   "mimetype": "text/x-python",
   "name": "python",
   "nbconvert_exporter": "python",
   "pygments_lexer": "ipython3",
   "version": "3.9.7"
  }
 },
 "nbformat": 4,
 "nbformat_minor": 2
}
